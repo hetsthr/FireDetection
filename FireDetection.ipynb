{
  "nbformat": 4,
  "nbformat_minor": 0,
  "metadata": {
    "colab": {
      "provenance": []
    },
    "kernelspec": {
      "name": "python3",
      "display_name": "Python 3"
    },
    "language_info": {
      "name": "python"
    }
  },
  "cells": [
    {
      "cell_type": "code",
      "execution_count": 4,
      "metadata": {
        "colab": {
          "base_uri": "https://localhost:8080/"
        },
        "id": "GBwE6lpkHdrb",
        "outputId": "15b7458c-4346-495d-d95f-d472c842f14b"
      },
      "outputs": [
        {
          "output_type": "stream",
          "name": "stdout",
          "text": [
            "Cloning into 'FireDetection'...\n",
            "remote: Enumerating objects: 980, done.\u001b[K\n",
            "remote: Counting objects:  14% (1/7)\u001b[K\rremote: Counting objects:  28% (2/7)\u001b[K\rremote: Counting objects:  42% (3/7)\u001b[K\rremote: Counting objects:  57% (4/7)\u001b[K\rremote: Counting objects:  71% (5/7)\u001b[K\rremote: Counting objects:  85% (6/7)\u001b[K\rremote: Counting objects: 100% (7/7)\u001b[K\rremote: Counting objects: 100% (7/7), done.\u001b[K\n",
            "remote: Compressing objects: 100% (6/6), done.\u001b[K\n",
            "remote: Total 980 (delta 1), reused 6 (delta 1), pack-reused 973\u001b[K\n",
            "Receiving objects: 100% (980/980), 375.15 MiB | 41.73 MiB/s, done.\n",
            "Resolving deltas: 100% (2/2), done.\n",
            "Checking out files: 100% (1002/1002), done.\n"
          ]
        }
      ],
      "source": [
        "!git clone https://github.com/hetsthr/FireDetection.git"
      ]
    },
    {
      "cell_type": "markdown",
      "source": [
        "## Script for Training Models\n",
        "\n",
        "* Change the MODEL_NAME to either mobilenet, cnn, dnn or ds-cnn to Train that particular model. \n",
        "\n",
        "* Play with other parameters: IMG_SIZE, CHANNELS (1 = grayscale, 3 = RGB), EPOCHS, TRAIN_SAMPLES etc. to change different training parameters.\n"
      ],
      "metadata": {
        "id": "8Ql_TX4-Hxyo"
      }
    },
    {
      "cell_type": "code",
      "source": [
        "!python FireDetection/train.py"
      ],
      "metadata": {
        "colab": {
          "base_uri": "https://localhost:8080/"
        },
        "id": "0o-OuJ5vHjVE",
        "outputId": "2d6ae904-9c6c-464a-eb4b-5ab877fcbe69"
      },
      "execution_count": 6,
      "outputs": [
        {
          "output_type": "stream",
          "name": "stdout",
          "text": [
            "2022-10-13 02:18:10.791789: E tensorflow/stream_executor/cuda/cuda_driver.cc:271] failed call to cuInit: CUDA_ERROR_NO_DEVICE: no CUDA-capable device is detected\n",
            "Model: \"sequential\"\n",
            "_________________________________________________________________\n",
            " Layer (type)                Output Shape              Param #   \n",
            "=================================================================\n",
            " conv2d (Conv2D)             (None, 16, 16, 8)         72        \n",
            "                                                                 \n",
            " batch_normalization (BatchN  (None, 16, 16, 8)        32        \n",
            " ormalization)                                                   \n",
            "                                                                 \n",
            " activation (Activation)     (None, 16, 16, 8)         0         \n",
            "                                                                 \n",
            " depthwise_conv2d (Depthwise  (None, 16, 16, 8)        72        \n",
            " Conv2D)                                                         \n",
            "                                                                 \n",
            " batch_normalization_1 (Batc  (None, 16, 16, 8)        32        \n",
            " hNormalization)                                                 \n",
            "                                                                 \n",
            " activation_1 (Activation)   (None, 16, 16, 8)         0         \n",
            "                                                                 \n",
            " conv2d_1 (Conv2D)           (None, 16, 16, 16)        128       \n",
            "                                                                 \n",
            " batch_normalization_2 (Batc  (None, 16, 16, 16)       64        \n",
            " hNormalization)                                                 \n",
            "                                                                 \n",
            " activation_2 (Activation)   (None, 16, 16, 16)        0         \n",
            "                                                                 \n",
            " depthwise_conv2d_1 (Depthwi  (None, 8, 8, 16)         144       \n",
            " seConv2D)                                                       \n",
            "                                                                 \n",
            " batch_normalization_3 (Batc  (None, 8, 8, 16)         64        \n",
            " hNormalization)                                                 \n",
            "                                                                 \n",
            " activation_3 (Activation)   (None, 8, 8, 16)          0         \n",
            "                                                                 \n",
            " conv2d_2 (Conv2D)           (None, 8, 8, 32)          512       \n",
            "                                                                 \n",
            " batch_normalization_4 (Batc  (None, 8, 8, 32)         128       \n",
            " hNormalization)                                                 \n",
            "                                                                 \n",
            " activation_4 (Activation)   (None, 8, 8, 32)          0         \n",
            "                                                                 \n",
            " depthwise_conv2d_2 (Depthwi  (None, 8, 8, 32)         288       \n",
            " seConv2D)                                                       \n",
            "                                                                 \n",
            " batch_normalization_5 (Batc  (None, 8, 8, 32)         128       \n",
            " hNormalization)                                                 \n",
            "                                                                 \n",
            " activation_5 (Activation)   (None, 8, 8, 32)          0         \n",
            "                                                                 \n",
            " conv2d_3 (Conv2D)           (None, 8, 8, 32)          1024      \n",
            "                                                                 \n",
            " batch_normalization_6 (Batc  (None, 8, 8, 32)         128       \n",
            " hNormalization)                                                 \n",
            "                                                                 \n",
            " activation_6 (Activation)   (None, 8, 8, 32)          0         \n",
            "                                                                 \n",
            " depthwise_conv2d_3 (Depthwi  (None, 4, 4, 32)         288       \n",
            " seConv2D)                                                       \n",
            "                                                                 \n",
            " batch_normalization_7 (Batc  (None, 4, 4, 32)         128       \n",
            " hNormalization)                                                 \n",
            "                                                                 \n",
            " activation_7 (Activation)   (None, 4, 4, 32)          0         \n",
            "                                                                 \n",
            " conv2d_4 (Conv2D)           (None, 4, 4, 64)          2048      \n",
            "                                                                 \n",
            " batch_normalization_8 (Batc  (None, 4, 4, 64)         256       \n",
            " hNormalization)                                                 \n",
            "                                                                 \n",
            " activation_8 (Activation)   (None, 4, 4, 64)          0         \n",
            "                                                                 \n",
            " depthwise_conv2d_4 (Depthwi  (None, 4, 4, 64)         576       \n",
            " seConv2D)                                                       \n",
            "                                                                 \n",
            " batch_normalization_9 (Batc  (None, 4, 4, 64)         256       \n",
            " hNormalization)                                                 \n",
            "                                                                 \n",
            " activation_9 (Activation)   (None, 4, 4, 64)          0         \n",
            "                                                                 \n",
            " conv2d_5 (Conv2D)           (None, 4, 4, 64)          4096      \n",
            "                                                                 \n",
            " batch_normalization_10 (Bat  (None, 4, 4, 64)         256       \n",
            " chNormalization)                                                \n",
            "                                                                 \n",
            " activation_10 (Activation)  (None, 4, 4, 64)          0         \n",
            "                                                                 \n",
            " depthwise_conv2d_5 (Depthwi  (None, 2, 2, 64)         576       \n",
            " seConv2D)                                                       \n",
            "                                                                 \n",
            " batch_normalization_11 (Bat  (None, 2, 2, 64)         256       \n",
            " chNormalization)                                                \n",
            "                                                                 \n",
            " activation_11 (Activation)  (None, 2, 2, 64)          0         \n",
            "                                                                 \n",
            " conv2d_6 (Conv2D)           (None, 2, 2, 128)         8192      \n",
            "                                                                 \n",
            " batch_normalization_12 (Bat  (None, 2, 2, 128)        512       \n",
            " chNormalization)                                                \n",
            "                                                                 \n",
            " activation_12 (Activation)  (None, 2, 2, 128)         0         \n",
            "                                                                 \n",
            " depthwise_conv2d_6 (Depthwi  (None, 1, 1, 128)        1152      \n",
            " seConv2D)                                                       \n",
            "                                                                 \n",
            " batch_normalization_13 (Bat  (None, 1, 1, 128)        512       \n",
            " chNormalization)                                                \n",
            "                                                                 \n",
            " activation_13 (Activation)  (None, 1, 1, 128)         0         \n",
            "                                                                 \n",
            " conv2d_7 (Conv2D)           (None, 1, 1, 256)         32768     \n",
            "                                                                 \n",
            " batch_normalization_14 (Bat  (None, 1, 1, 256)        1024      \n",
            " chNormalization)                                                \n",
            "                                                                 \n",
            " activation_14 (Activation)  (None, 1, 1, 256)         0         \n",
            "                                                                 \n",
            " depthwise_conv2d_7 (Depthwi  (None, 1, 1, 256)        2304      \n",
            " seConv2D)                                                       \n",
            "                                                                 \n",
            " batch_normalization_15 (Bat  (None, 1, 1, 256)        1024      \n",
            " chNormalization)                                                \n",
            "                                                                 \n",
            " activation_15 (Activation)  (None, 1, 1, 256)         0         \n",
            "                                                                 \n",
            " conv2d_8 (Conv2D)           (None, 1, 1, 256)         65536     \n",
            "                                                                 \n",
            " batch_normalization_16 (Bat  (None, 1, 1, 256)        1024      \n",
            " chNormalization)                                                \n",
            "                                                                 \n",
            " activation_16 (Activation)  (None, 1, 1, 256)         0         \n",
            "                                                                 \n",
            " flatten (Flatten)           (None, 256)               0         \n",
            "                                                                 \n",
            " dense (Dense)               (None, 2)                 514       \n",
            "                                                                 \n",
            "=================================================================\n",
            "Total params: 126,114\n",
            "Trainable params: 123,202\n",
            "Non-trainable params: 2,912\n",
            "_________________________________________________________________\n",
            "Found 919 images belonging to 2 classes.\n",
            "Found 919 images belonging to 2 classes.\n",
            "/usr/local/lib/python3.7/dist-packages/keras/optimizers/optimizer_v2/rmsprop.py:135: UserWarning: The `lr` argument is deprecated, use `learning_rate` instead.\n",
            "  super(RMSprop, self).__init__(name, **kwargs)\n",
            "FireDetection/train.py:106: UserWarning: `Model.fit_generator` is deprecated and will be removed in a future version. Please use `Model.fit`, which supports generators.\n",
            "  validation_steps = np.ceil((nb_validation_samples/batch_size)-1))\n",
            "Epoch 1/2\n",
            "9/9 [==============================] - ETA: 0s - loss: 0.6482 - accuracy: 0.6742\n",
            "Epoch 1: val_loss improved from inf to 0.67458, saving model to mobilenet_gray_32.h5\n",
            "9/9 [==============================] - 7s 461ms/step - loss: 0.6482 - accuracy: 0.6742 - val_loss: 0.6746 - val_accuracy: 0.8000\n",
            "Epoch 2/2\n",
            "9/9 [==============================] - ETA: 0s - loss: 0.7340 - accuracy: 0.6333\n",
            "Epoch 2: val_loss improved from 0.67458 to 0.65916, saving model to mobilenet_gray_32.h5\n",
            "9/9 [==============================] - 4s 464ms/step - loss: 0.7340 - accuracy: 0.6333 - val_loss: 0.6592 - val_accuracy: 0.8000\n",
            "WARNING:absl:Found untraced functions such as _jit_compiled_convolution_op, _jit_compiled_convolution_op, _jit_compiled_convolution_op, _jit_compiled_convolution_op, _jit_compiled_convolution_op while saving (showing 5 of 17). These functions will not be directly callable after loading.\n",
            "Figure(640x480)\n"
          ]
        }
      ]
    },
    {
      "cell_type": "markdown",
      "source": [
        "# Quantization Script\n",
        "\n",
        "* Modify MODEL_NAME = ['mobilenet', 'cnn', 'dnn'] etc.. include all models that were trained using previous script.\n",
        "* Set IMG_SIZE, CHANNELS to same values as what was used during training.\n",
        "\n",
        "**This will generate four files for each trained model:** \n",
        "\n",
        "1.   cc\n",
        "2.   h5\n",
        "3.   _float.tflite\n",
        "4.   _quant.tflite\n",
        "\n"
      ],
      "metadata": {
        "id": "xd448EqKJzjy"
      }
    },
    {
      "cell_type": "code",
      "source": [
        "!python FireDetection/quantize.py"
      ],
      "metadata": {
        "colab": {
          "base_uri": "https://localhost:8080/"
        },
        "id": "iQ6VxV9lIjuj",
        "outputId": "3a300934-4f25-48d0-e32e-37cfe9bc7d9f"
      },
      "execution_count": 9,
      "outputs": [
        {
          "output_type": "stream",
          "name": "stdout",
          "text": [
            "2022-10-13 02:23:13.342392: E tensorflow/stream_executor/cuda/cuda_driver.cc:271] failed call to cuInit: CUDA_ERROR_NO_DEVICE: no CUDA-capable device is detected\n",
            "WARNING:absl:Found untraced functions such as _jit_compiled_convolution_op, _jit_compiled_convolution_op, _jit_compiled_convolution_op, _jit_compiled_convolution_op, _jit_compiled_convolution_op while saving (showing 5 of 17). These functions will not be directly callable after loading.\n",
            "WARNING:tensorflow:From /usr/local/lib/python3.7/dist-packages/tensorflow/lite/python/convert_saved_model.py:59: load (from tensorflow.python.saved_model.loader_impl) is deprecated and will be removed in a future version.\n",
            "Instructions for updating:\n",
            "This function will only be available through the v1 compatibility library as tf.compat.v1.saved_model.loader.load or tf.compat.v1.saved_model.load. There will be a new function for importing SavedModels in Tensorflow 2.0.\n",
            "WARNING:tensorflow:From /usr/local/lib/python3.7/dist-packages/tensorflow/lite/python/convert_saved_model.py:59: load (from tensorflow.python.saved_model.loader_impl) is deprecated and will be removed in a future version.\n",
            "Instructions for updating:\n",
            "This function will only be available through the v1 compatibility library as tf.compat.v1.saved_model.loader.load or tf.compat.v1.saved_model.load. There will be a new function for importing SavedModels in Tensorflow 2.0.\n",
            "WARNING:tensorflow:From /usr/local/lib/python3.7/dist-packages/tensorflow/lite/python/util.py:310: convert_variables_to_constants (from tensorflow.python.framework.graph_util_impl) is deprecated and will be removed in a future version.\n",
            "Instructions for updating:\n",
            "Use `tf.compat.v1.graph_util.convert_variables_to_constants`\n",
            "WARNING:tensorflow:From /usr/local/lib/python3.7/dist-packages/tensorflow/lite/python/util.py:310: convert_variables_to_constants (from tensorflow.python.framework.graph_util_impl) is deprecated and will be removed in a future version.\n",
            "Instructions for updating:\n",
            "Use `tf.compat.v1.graph_util.convert_variables_to_constants`\n",
            "WARNING:tensorflow:From /usr/local/lib/python3.7/dist-packages/tensorflow/python/framework/convert_to_constants.py:925: extract_sub_graph (from tensorflow.python.framework.graph_util_impl) is deprecated and will be removed in a future version.\n",
            "Instructions for updating:\n",
            "Use `tf.compat.v1.graph_util.extract_sub_graph`\n",
            "WARNING:tensorflow:From /usr/local/lib/python3.7/dist-packages/tensorflow/python/framework/convert_to_constants.py:925: extract_sub_graph (from tensorflow.python.framework.graph_util_impl) is deprecated and will be removed in a future version.\n",
            "Instructions for updating:\n",
            "Use `tf.compat.v1.graph_util.extract_sub_graph`\n",
            "2022-10-13 02:23:22.930349: W tensorflow/compiler/mlir/lite/python/tf_tfl_flatbuffer_helpers.cc:362] Ignored output_format.\n",
            "2022-10-13 02:23:22.930422: W tensorflow/compiler/mlir/lite/python/tf_tfl_flatbuffer_helpers.cc:365] Ignored drop_control_dependency.\n",
            "WARNING:absl:Found untraced functions such as _jit_compiled_convolution_op, _jit_compiled_convolution_op, _jit_compiled_convolution_op, _jit_compiled_convolution_op, _jit_compiled_convolution_op while saving (showing 5 of 17). These functions will not be directly callable after loading.\n",
            "2022-10-13 02:23:31.767848: W tensorflow/compiler/mlir/lite/python/tf_tfl_flatbuffer_helpers.cc:362] Ignored output_format.\n",
            "2022-10-13 02:23:31.767922: W tensorflow/compiler/mlir/lite/python/tf_tfl_flatbuffer_helpers.cc:365] Ignored drop_control_dependency.\n",
            "2022-10-13 02:23:31.854311: W tensorflow/core/data/root_dataset.cc:247] Optimization loop failed: CANCELLED: Operation was cancelled\n",
            "2022-10-13 02:23:31.901000: W tensorflow/core/data/root_dataset.cc:247] Optimization loop failed: CANCELLED: Operation was cancelled\n",
            "2022-10-13 02:23:32.176906: W tensorflow/core/data/root_dataset.cc:247] Optimization loop failed: CANCELLED: Operation was cancelled\n",
            "2022-10-13 02:23:32.290100: W tensorflow/core/data/root_dataset.cc:247] Optimization loop failed: CANCELLED: Operation was cancelled\n",
            "2022-10-13 02:23:32.298494: W tensorflow/core/data/root_dataset.cc:247] Optimization loop failed: CANCELLED: Operation was cancelled\n",
            "2022-10-13 02:23:32.411487: W tensorflow/core/data/root_dataset.cc:247] Optimization loop failed: CANCELLED: Operation was cancelled\n",
            "2022-10-13 02:23:32.714733: W tensorflow/core/data/root_dataset.cc:247] Optimization loop failed: CANCELLED: Operation was cancelled\n",
            "fully_quantize: 0, inference_type: 6, input_inference_type: 9, output_inference_type: 9\n",
            "  0x02, 0x00, 0x00, 0x00, 0x00, 0x00, 0x00, 0x19, 0xc8, 0xff, 0xff, 0xff,\n",
            "  0x09, 0x00, 0x00, 0x00, 0x04, 0x00, 0x00, 0x00, 0x00, 0x00, 0x00, 0x09,\n",
            "  0x0c, 0x00, 0x0c, 0x00, 0x0b, 0x00, 0x00, 0x00, 0x00, 0x00, 0x04, 0x00,\n",
            "  0x0c, 0x00, 0x00, 0x00, 0x16, 0x00, 0x00, 0x00, 0x00, 0x00, 0x00, 0x16,\n",
            "  0xf0, 0xff, 0xff, 0xff, 0x04, 0x00, 0x00, 0x00, 0x03, 0x00, 0x00, 0x00,\n",
            "  0x00, 0x00, 0x00, 0x04, 0x0c, 0x00, 0x10, 0x00, 0x0f, 0x00, 0x00, 0x00,\n",
            "  0x08, 0x00, 0x04, 0x00, 0x0c, 0x00, 0x00, 0x00, 0x03, 0x00, 0x00, 0x00,\n",
            "  0x03, 0x00, 0x00, 0x00, 0x00, 0x00, 0x00, 0x03\n",
            "};\n",
            "unsigned int mobilenet_gray_32_quant_tflite_len = 173768;\n"
          ]
        }
      ]
    },
    {
      "cell_type": "code",
      "source": [],
      "metadata": {
        "id": "yo5ppzUrJbLB"
      },
      "execution_count": null,
      "outputs": []
    }
  ]
}